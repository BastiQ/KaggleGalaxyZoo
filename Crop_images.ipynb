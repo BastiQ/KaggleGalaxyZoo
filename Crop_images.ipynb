{
 "cells": [
  {
   "cell_type": "code",
   "execution_count": 5,
   "metadata": {
    "collapsed": true
   },
   "outputs": [],
   "source": [
    "from keras.preprocessing.image import load_img\n",
    "import os\n",
    "from IPython.display import clear_output\n",
    "TRAIN_DIR = r\"training/\"\n",
    "TRAIN_DIR = r\"D:\\Offline_Programmierung\\Machine_Learning\\Datasets\\GalaxyZoo\\training\\\\\"\n",
    "TEST_KAGGLE_DIR = r\"D:\\Offline_Programmierung\\Machine_Learning\\Datasets\\GalaxyZoo\\test\\\\\""
   ]
  },
  {
   "cell_type": "code",
   "execution_count": null,
   "metadata": {
    "scrolled": true
   },
   "outputs": [
    {
     "name": "stdout",
     "output_type": "stream",
     "text": [
      "97.09784307596124\n"
     ]
    }
   ],
   "source": [
    "# CROP_DIR = TRAIN_DIR+'images_training_rev1/'   # train dataset\n",
    "# SAVE_DIR = TRAIN_DIR\n",
    "CROP_DIR = TEST_KAGGLE_DIR+'images_test_rev1/' # test dataset\n",
    "SAVE_DIR = TEST_KAGGLE_DIR\n",
    "\n",
    "\n",
    "filelist = os.listdir(CROP_DIR)\n",
    "crop_pixel = 100\n",
    "\n",
    "for i,file in enumerate(filelist):\n",
    "    clear_output(wait=True)\n",
    "    print(np.round(i/len(filelist)*100,2),\"%\")\n",
    "    img = load_img(CROP_DIR+file)    # this is a PIL image\n",
    "    img_new = img.crop((crop_pixel, crop_pixel, 424-crop_pixel, 424-crop_pixel))\n",
    "    img_new.save(SAVE_DIR+'croped/'+file)"
   ]
  },
  {
   "cell_type": "code",
   "execution_count": null,
   "metadata": {
    "collapsed": true
   },
   "outputs": [],
   "source": []
  }
 ],
 "metadata": {
  "kernelspec": {
   "display_name": "Python 3",
   "language": "python",
   "name": "python3"
  },
  "language_info": {
   "codemirror_mode": {
    "name": "ipython",
    "version": 3
   },
   "file_extension": ".py",
   "mimetype": "text/x-python",
   "name": "python",
   "nbconvert_exporter": "python",
   "pygments_lexer": "ipython3",
   "version": "3.6.3"
  }
 },
 "nbformat": 4,
 "nbformat_minor": 2
}
